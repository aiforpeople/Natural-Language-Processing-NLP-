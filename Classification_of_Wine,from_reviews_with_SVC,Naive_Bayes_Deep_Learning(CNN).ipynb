{
  "nbformat": 4,
  "nbformat_minor": 0,
  "metadata": {
    "colab": {
      "name": "Classification of Wine,from reviews with SVC,Naive Bayes Deep Learning(CNN).ipynb",
      "version": "0.3.2",
      "provenance": [],
      "include_colab_link": true
    },
    "kernelspec": {
      "name": "python3",
      "display_name": "Python 3"
    }
  },
  "cells": [
    {
      "cell_type": "markdown",
      "metadata": {
        "id": "view-in-github",
        "colab_type": "text"
      },
      "source": [
        "<a href=\"https://colab.research.google.com/github/aiforpeople/Natural-Language-Processing-NLP-/blob/master/Classification_of_Wine%2Cfrom_reviews_with_SVC%2CNaive_Bayes_Deep_Learning(CNN).ipynb\" target=\"_parent\"><img src=\"https://colab.research.google.com/assets/colab-badge.svg\" alt=\"Open In Colab\"/></a>"
      ]
    },
    {
      "metadata": {
        "id": "5IJehE-IeTy3",
        "colab_type": "code",
        "colab": {}
      },
      "cell_type": "code",
      "source": [
        ""
      ],
      "execution_count": 0,
      "outputs": []
    },
    {
      "metadata": {
        "id": "QHupY0wPh3ze",
        "colab_type": "text"
      },
      "cell_type": "markdown",
      "source": [
        "To build a deep learning algorithm to determine the variety of the wine being reviewed based on the review text.The wine magazine dataset at https://www.kaggle.com/zynicide/wine-reviews which is provided by Kaggle user zackthoutt is used for the study\n",
        "\n",
        "Conceptually, the question is, can we take a wine review like…\n",
        "\n",
        "\"Aromas include tropical fruit, broom, brimstone and dried herb. The palate isn’t overly expressive, offering unripened apple, citrus and dried sage alongside brisk acidity.\"\"\n",
        "\n",
        "…and recognize that it is about a white blend? Some wine enthusiasts might recognize telltale signs of white wines such as apple, citrus, and a pronounced acidity, but can we train our neural network to recognize these signals? Additionally, can we train our neural network to recognize the subtle differences between a white blend review and a pinot grigio review?"
      ]
    },
    {
      "metadata": {
        "id": "UwcRz7jxifHx",
        "colab_type": "text"
      },
      "cell_type": "markdown",
      "source": [
        "**Similar Algorithms**\n",
        "The problem is essentially an NLP classification problem. There are several NLP classification algorithms that have been applied to various problems in NLP. For example, naive Bayes have been used in various spam detection algorithms, and support vector machines (SVM) have been used to classify texts such as progress notes at healthcare institutions. It would be interesting to implement a simple version of these algorithms to serve as a baseline for thisdeep learning model.\n",
        "\n",
        "**Naive Bayes**\n",
        "A popular implementation of naive Bayes for NLP involves preprocessing the text using TF-IDF and then running the multinomial naive Bayes on the preprocessed outputs. This allows the algorithm to be run on the most prominent words within a document.The naive Bayes is implemented as follows:"
      ]
    },
    {
      "metadata": {
        "id": "giziDkqwkCe_",
        "colab_type": "code",
        "colab": {}
      },
      "cell_type": "code",
      "source": [
        "import numpy as np\n",
        "from sklearn.naive_bayes import MultinomialNB\n",
        "from sklearn.feature_extraction.text import CountVectorizer\n",
        "import pandas as pd\n",
        "from collections import Counter\n",
        "from sklearn.model_selection import train_test_split\n",
        "from sklearn.feature_extraction.text import TfidfTransformer\n",
        "\n"
      ],
      "execution_count": 0,
      "outputs": []
    },
    {
      "metadata": {
        "id": "wbnwbSb1pwTH",
        "colab_type": "code",
        "colab": {}
      },
      "cell_type": "code",
      "source": [
        "df = pd.read_csv('winemag-data-130k-v2.csv')"
      ],
      "execution_count": 0,
      "outputs": []
    },
    {
      "metadata": {
        "id": "4UDChC4apxil",
        "colab_type": "code",
        "outputId": "657a37bd-4a52-4410-8739-c97659f8684f",
        "colab": {
          "base_uri": "https://localhost:8080/",
          "height": 400
        }
      },
      "cell_type": "code",
      "source": [
        "df.head(3)"
      ],
      "execution_count": 0,
      "outputs": [
        {
          "output_type": "execute_result",
          "data": {
            "text/html": [
              "<div>\n",
              "<style scoped>\n",
              "    .dataframe tbody tr th:only-of-type {\n",
              "        vertical-align: middle;\n",
              "    }\n",
              "\n",
              "    .dataframe tbody tr th {\n",
              "        vertical-align: top;\n",
              "    }\n",
              "\n",
              "    .dataframe thead th {\n",
              "        text-align: right;\n",
              "    }\n",
              "</style>\n",
              "<table border=\"1\" class=\"dataframe\">\n",
              "  <thead>\n",
              "    <tr style=\"text-align: right;\">\n",
              "      <th></th>\n",
              "      <th>Unnamed: 0</th>\n",
              "      <th>country</th>\n",
              "      <th>description</th>\n",
              "      <th>designation</th>\n",
              "      <th>points</th>\n",
              "      <th>price</th>\n",
              "      <th>province</th>\n",
              "      <th>region_1</th>\n",
              "      <th>region_2</th>\n",
              "      <th>taster_name</th>\n",
              "      <th>taster_twitter_handle</th>\n",
              "      <th>title</th>\n",
              "      <th>variety</th>\n",
              "      <th>winery</th>\n",
              "    </tr>\n",
              "  </thead>\n",
              "  <tbody>\n",
              "    <tr>\n",
              "      <th>0</th>\n",
              "      <td>0</td>\n",
              "      <td>Italy</td>\n",
              "      <td>Aromas include tropical fruit, broom, brimston...</td>\n",
              "      <td>Vulkà Bianco</td>\n",
              "      <td>87</td>\n",
              "      <td>NaN</td>\n",
              "      <td>Sicily &amp; Sardinia</td>\n",
              "      <td>Etna</td>\n",
              "      <td>NaN</td>\n",
              "      <td>Kerin O’Keefe</td>\n",
              "      <td>@kerinokeefe</td>\n",
              "      <td>Nicosia 2013 Vulkà Bianco  (Etna)</td>\n",
              "      <td>White Blend</td>\n",
              "      <td>Nicosia</td>\n",
              "    </tr>\n",
              "    <tr>\n",
              "      <th>1</th>\n",
              "      <td>1</td>\n",
              "      <td>Portugal</td>\n",
              "      <td>This is ripe and fruity, a wine that is smooth...</td>\n",
              "      <td>Avidagos</td>\n",
              "      <td>87</td>\n",
              "      <td>15.0</td>\n",
              "      <td>Douro</td>\n",
              "      <td>NaN</td>\n",
              "      <td>NaN</td>\n",
              "      <td>Roger Voss</td>\n",
              "      <td>@vossroger</td>\n",
              "      <td>Quinta dos Avidagos 2011 Avidagos Red (Douro)</td>\n",
              "      <td>Portuguese Red</td>\n",
              "      <td>Quinta dos Avidagos</td>\n",
              "    </tr>\n",
              "    <tr>\n",
              "      <th>2</th>\n",
              "      <td>2</td>\n",
              "      <td>US</td>\n",
              "      <td>Tart and snappy, the flavors of lime flesh and...</td>\n",
              "      <td>NaN</td>\n",
              "      <td>87</td>\n",
              "      <td>14.0</td>\n",
              "      <td>Oregon</td>\n",
              "      <td>Willamette Valley</td>\n",
              "      <td>Willamette Valley</td>\n",
              "      <td>Paul Gregutt</td>\n",
              "      <td>@paulgwine</td>\n",
              "      <td>Rainstorm 2013 Pinot Gris (Willamette Valley)</td>\n",
              "      <td>Pinot Gris</td>\n",
              "      <td>Rainstorm</td>\n",
              "    </tr>\n",
              "  </tbody>\n",
              "</table>\n",
              "</div>"
            ],
            "text/plain": [
              "   Unnamed: 0   country                                        description  \\\n",
              "0           0     Italy  Aromas include tropical fruit, broom, brimston...   \n",
              "1           1  Portugal  This is ripe and fruity, a wine that is smooth...   \n",
              "2           2        US  Tart and snappy, the flavors of lime flesh and...   \n",
              "\n",
              "    designation  points  price           province           region_1  \\\n",
              "0  Vulkà Bianco      87    NaN  Sicily & Sardinia               Etna   \n",
              "1      Avidagos      87   15.0              Douro                NaN   \n",
              "2           NaN      87   14.0             Oregon  Willamette Valley   \n",
              "\n",
              "            region_2    taster_name taster_twitter_handle  \\\n",
              "0                NaN  Kerin O’Keefe          @kerinokeefe   \n",
              "1                NaN     Roger Voss            @vossroger   \n",
              "2  Willamette Valley   Paul Gregutt           @paulgwine    \n",
              "\n",
              "                                           title         variety  \\\n",
              "0              Nicosia 2013 Vulkà Bianco  (Etna)     White Blend   \n",
              "1  Quinta dos Avidagos 2011 Avidagos Red (Douro)  Portuguese Red   \n",
              "2  Rainstorm 2013 Pinot Gris (Willamette Valley)      Pinot Gris   \n",
              "\n",
              "                winery  \n",
              "0              Nicosia  \n",
              "1  Quinta dos Avidagos  \n",
              "2            Rainstorm  "
            ]
          },
          "metadata": {
            "tags": []
          },
          "execution_count": 11
        }
      ]
    },
    {
      "metadata": {
        "id": "1XiU5v3ipyi-",
        "colab_type": "code",
        "colab": {}
      },
      "cell_type": "code",
      "source": [
        ""
      ],
      "execution_count": 0,
      "outputs": []
    },
    {
      "metadata": {
        "id": "Hkob-_03pzZ7",
        "colab_type": "code",
        "colab": {}
      },
      "cell_type": "code",
      "source": [
        ""
      ],
      "execution_count": 0,
      "outputs": []
    },
    {
      "metadata": {
        "id": "R5yaL03-p0YD",
        "colab_type": "code",
        "outputId": "1b46a3f5-fbcc-4ed0-d1da-6036c50ec757",
        "colab": {
          "base_uri": "https://localhost:8080/",
          "height": 51
        }
      },
      "cell_type": "code",
      "source": [
        "print(type(df['variety']))\n",
        "counter = Counter(df['variety'].tolist())\n",
        "print(type(df['variety']))"
      ],
      "execution_count": 0,
      "outputs": [
        {
          "output_type": "stream",
          "text": [
            "<class 'pandas.core.series.Series'>\n",
            "<class 'pandas.core.series.Series'>\n"
          ],
          "name": "stdout"
        }
      ]
    },
    {
      "metadata": {
        "id": "JQCJqj2tsF9q",
        "colab_type": "code",
        "outputId": "e1d0efa3-d8ea-4e24-ae10-6bcfb843ef2a",
        "colab": {
          "base_uri": "https://localhost:8080/",
          "height": 12053
        }
      },
      "cell_type": "code",
      "source": [
        "counter=Counter(df['variety'].tolist())\n",
        "counter"
      ],
      "execution_count": 0,
      "outputs": [
        {
          "output_type": "execute_result",
          "data": {
            "text/plain": [
              "Counter({'Abouriou': 3,\n",
              "         'Agiorgitiko': 63,\n",
              "         'Aglianico': 359,\n",
              "         'Aidani': 1,\n",
              "         'Airen': 3,\n",
              "         'Albana': 23,\n",
              "         'Albanello': 1,\n",
              "         'Albariño': 477,\n",
              "         'Albarossa': 2,\n",
              "         'Aleatico': 5,\n",
              "         'Alfrocheiro': 16,\n",
              "         'Alicante': 5,\n",
              "         'Alicante Bouschet': 50,\n",
              "         'Aligoté': 30,\n",
              "         'Alsace white blend': 51,\n",
              "         'Altesse': 8,\n",
              "         'Alvarelhão': 2,\n",
              "         'Alvarinho': 137,\n",
              "         'Alvarinho-Chardonnay': 5,\n",
              "         'Ansonica': 2,\n",
              "         'Antão Vaz': 17,\n",
              "         'Apple': 2,\n",
              "         'Aragonez': 10,\n",
              "         'Aragonês': 10,\n",
              "         'Argaman': 3,\n",
              "         'Arinto': 77,\n",
              "         'Arneis': 86,\n",
              "         'Asprinio': 3,\n",
              "         'Assyrtico': 43,\n",
              "         'Assyrtiko': 18,\n",
              "         'Athiri': 1,\n",
              "         'Austrian Red Blend': 62,\n",
              "         'Austrian white blend': 80,\n",
              "         'Auxerrois': 27,\n",
              "         'Avesso': 6,\n",
              "         'Azal': 3,\n",
              "         'Babić': 4,\n",
              "         'Babosa Negro': 1,\n",
              "         'Bacchus': 2,\n",
              "         'Baco Noir': 16,\n",
              "         'Baga': 29,\n",
              "         'Baga-Touriga Nacional': 2,\n",
              "         'Barbera': 721,\n",
              "         'Barbera-Nebbiolo': 1,\n",
              "         'Bastardo': 2,\n",
              "         'Biancale': 1,\n",
              "         'Biancolella': 1,\n",
              "         'Biancu Gentile': 1,\n",
              "         'Bical': 13,\n",
              "         'Black Monukka': 2,\n",
              "         'Black Muscat': 11,\n",
              "         'Blanc du Bois': 6,\n",
              "         'Blatina': 1,\n",
              "         'Blauburger': 1,\n",
              "         'Blauburgunder': 1,\n",
              "         'Blauer Portugieser': 2,\n",
              "         'Blaufränkisch': 232,\n",
              "         'Bobal': 23,\n",
              "         'Bobal-Cabernet Sauvignon': 1,\n",
              "         'Bombino Bianco': 2,\n",
              "         'Bombino Nero': 1,\n",
              "         'Bonarda': 105,\n",
              "         'Bordeaux-style Red Blend': 6915,\n",
              "         'Bordeaux-style White Blend': 1066,\n",
              "         'Bovale': 4,\n",
              "         'Boğazkere': 4,\n",
              "         'Brachetto': 15,\n",
              "         'Braucol': 5,\n",
              "         'Bual': 7,\n",
              "         'Cabernet': 11,\n",
              "         'Cabernet Blend': 80,\n",
              "         'Cabernet Franc': 1353,\n",
              "         'Cabernet Franc-Cabernet Sauvignon': 16,\n",
              "         'Cabernet Franc-Carmenère': 2,\n",
              "         'Cabernet Franc-Lemberger': 2,\n",
              "         'Cabernet Franc-Malbec': 4,\n",
              "         'Cabernet Franc-Merlot': 20,\n",
              "         'Cabernet Merlot': 21,\n",
              "         'Cabernet Moravia': 2,\n",
              "         'Cabernet Pfeffer': 2,\n",
              "         'Cabernet Sauvignon': 9472,\n",
              "         'Cabernet Sauvignon Grenache': 2,\n",
              "         'Cabernet Sauvignon-Barbera': 1,\n",
              "         'Cabernet Sauvignon-Cabernet Franc': 21,\n",
              "         'Cabernet Sauvignon-Carmenère': 43,\n",
              "         'Cabernet Sauvignon-Malbec': 18,\n",
              "         'Cabernet Sauvignon-Merlot': 117,\n",
              "         'Cabernet Sauvignon-Merlot-Shiraz': 3,\n",
              "         'Cabernet Sauvignon-Sangiovese': 8,\n",
              "         'Cabernet Sauvignon-Shiraz': 27,\n",
              "         'Cabernet Sauvignon-Syrah': 102,\n",
              "         'Cabernet Sauvignon-Tempranillo': 15,\n",
              "         'Cabernet-Malbec': 1,\n",
              "         'Cabernet-Shiraz': 2,\n",
              "         'Cabernet-Syrah': 13,\n",
              "         'Canaiolo': 3,\n",
              "         'Cannonau': 31,\n",
              "         'Caprettone': 1,\n",
              "         'Carcajolu': 1,\n",
              "         'Carignan': 77,\n",
              "         'Carignan-Grenache': 9,\n",
              "         'Carignan-Syrah': 3,\n",
              "         'Carignane': 30,\n",
              "         'Carignano': 15,\n",
              "         'Carineña': 5,\n",
              "         'Cariñena-Garnacha': 2,\n",
              "         'Carmenère': 575,\n",
              "         'Carmenère-Cabernet Sauvignon': 8,\n",
              "         'Carmenère-Syrah': 7,\n",
              "         'Carricante': 37,\n",
              "         'Casavecchia': 5,\n",
              "         'Castelão': 34,\n",
              "         'Catalanesca': 1,\n",
              "         'Catarratto': 29,\n",
              "         'Cayuga': 2,\n",
              "         'Centesimino': 1,\n",
              "         'Cerceal': 3,\n",
              "         'Cercial': 1,\n",
              "         'Cesanese': 2,\n",
              "         \"Cesanese d'Affile\": 8,\n",
              "         'Chambourcin': 18,\n",
              "         'Champagne Blend': 1396,\n",
              "         'Chancellor': 2,\n",
              "         'Charbono': 26,\n",
              "         'Chardonel': 1,\n",
              "         'Chardonnay': 11753,\n",
              "         'Chardonnay Weissburgunder': 2,\n",
              "         'Chardonnay-Albariño': 2,\n",
              "         'Chardonnay-Pinot Blanc': 5,\n",
              "         'Chardonnay-Pinot Gris': 1,\n",
              "         'Chardonnay-Riesling': 1,\n",
              "         'Chardonnay-Sauvignon': 6,\n",
              "         'Chardonnay-Sauvignon Blanc': 6,\n",
              "         'Chardonnay-Semillon': 7,\n",
              "         'Chardonnay-Viognier': 35,\n",
              "         'Chasselas': 8,\n",
              "         'Chelois': 2,\n",
              "         'Chenin Blanc': 591,\n",
              "         'Chenin Blanc-Chardonnay': 33,\n",
              "         'Chenin Blanc-Sauvignon Blanc': 6,\n",
              "         'Chenin Blanc-Viognier': 13,\n",
              "         'Chinuri': 3,\n",
              "         'Ciliegiolo': 3,\n",
              "         'Cinsault': 41,\n",
              "         'Clairette': 3,\n",
              "         'Claret': 33,\n",
              "         'Cococciola': 1,\n",
              "         'Coda di Volpe': 18,\n",
              "         'Colombard': 24,\n",
              "         'Colombard-Sauvignon Blanc': 18,\n",
              "         'Colombard-Ugni Blanc': 8,\n",
              "         'Colorino': 1,\n",
              "         'Cortese': 73,\n",
              "         'Corvina': 22,\n",
              "         'Corvina, Rondinella, Molinara': 619,\n",
              "         'Counoise': 12,\n",
              "         'Códega do Larinho': 4,\n",
              "         'Dafni': 1,\n",
              "         'Debit': 3,\n",
              "         'Diamond': 1,\n",
              "         'Dolcetto': 180,\n",
              "         'Dornfelder': 27,\n",
              "         'Doña Blanca': 1,\n",
              "         'Duras': 7,\n",
              "         'Durella': 9,\n",
              "         'Durif': 2,\n",
              "         'Edelzwicker': 4,\n",
              "         'Ekigaïna': 1,\n",
              "         'Elbling': 4,\n",
              "         'Emir': 4,\n",
              "         'Encruzado': 39,\n",
              "         'Erbaluce': 3,\n",
              "         'Espadeiro': 1,\n",
              "         'Falanghina': 89,\n",
              "         'Favorita': 1,\n",
              "         'Fer Servadou': 4,\n",
              "         'Fernão Pires': 36,\n",
              "         'Feteasca': 2,\n",
              "         'Feteasca Neagra': 7,\n",
              "         'Feteascǎ Regalǎ': 6,\n",
              "         'Fiano': 151,\n",
              "         'Folle Blanche': 1,\n",
              "         'Forcallà': 1,\n",
              "         'Francisa': 1,\n",
              "         'Franconia': 1,\n",
              "         'Frankovka': 1,\n",
              "         'Frappato': 39,\n",
              "         'Freisa': 2,\n",
              "         'Friulano': 122,\n",
              "         'Früburgunder': 1,\n",
              "         'Fumé Blanc': 70,\n",
              "         'Furmint': 55,\n",
              "         'G-S-M': 181,\n",
              "         'Gaglioppo': 15,\n",
              "         'Gamay': 1025,\n",
              "         'Gamay Noir': 23,\n",
              "         'Gamza': 1,\n",
              "         'Garganega': 270,\n",
              "         'Garnacha': 326,\n",
              "         'Garnacha Blanca': 38,\n",
              "         'Garnacha Blend': 2,\n",
              "         'Garnacha Tintorera': 8,\n",
              "         'Garnacha-Cabernet': 1,\n",
              "         'Garnacha-Cariñena': 1,\n",
              "         'Garnacha-Monastrell': 3,\n",
              "         'Garnacha-Syrah': 13,\n",
              "         'Garnacha-Tempranillo': 6,\n",
              "         'Gelber Muskateller': 37,\n",
              "         'Gelber Traminer': 1,\n",
              "         'Gewürztraminer': 1012,\n",
              "         'Gewürztraminer-Riesling': 7,\n",
              "         'Glera': 709,\n",
              "         'Godello': 81,\n",
              "         'Gouveio': 2,\n",
              "         'Graciano': 43,\n",
              "         'Gragnano': 2,\n",
              "         'Grauburgunder': 15,\n",
              "         'Graševina': 1,\n",
              "         'Grecanico': 9,\n",
              "         'Grechetto': 15,\n",
              "         'Greco': 121,\n",
              "         'Greco Bianco': 6,\n",
              "         'Grenache': 651,\n",
              "         'Grenache Blanc': 131,\n",
              "         'Grenache Blend': 10,\n",
              "         'Grenache Gris': 1,\n",
              "         'Grenache Noir': 3,\n",
              "         'Grenache-Carignan': 17,\n",
              "         'Grenache-Mourvèdre': 6,\n",
              "         'Grenache-Shiraz': 4,\n",
              "         'Grenache-Syrah': 50,\n",
              "         'Grignolino': 2,\n",
              "         'Grillo': 137,\n",
              "         'Grolleau': 3,\n",
              "         'Groppello': 2,\n",
              "         'Gros Manseng': 25,\n",
              "         'Gros Plant': 1,\n",
              "         'Gros and Petit Manseng': 51,\n",
              "         'Grüner Veltliner': 1345,\n",
              "         'Hondarrabi Zuri': 17,\n",
              "         'Hárslevelü': 2,\n",
              "         'Incrocio Manzoni': 3,\n",
              "         'Insolia': 33,\n",
              "         'Inzolia': 30,\n",
              "         'Irsai Oliver': 1,\n",
              "         'Jacquez': 3,\n",
              "         'Jacquère': 24,\n",
              "         'Jaen': 7,\n",
              "         'Jampal': 1,\n",
              "         'Johannisberg Riesling': 9,\n",
              "         'Kadarka': 2,\n",
              "         'Kalecik Karasi': 15,\n",
              "         'Kangoun': 1,\n",
              "         'Karalahna': 1,\n",
              "         'Karasakiz': 1,\n",
              "         'Kekfrankos': 10,\n",
              "         'Kerner': 27,\n",
              "         'Kinali Yapincak': 1,\n",
              "         'Kisi': 6,\n",
              "         'Kotsifali': 1,\n",
              "         'Kuntra': 1,\n",
              "         'Lagrein': 80,\n",
              "         'Lambrusco': 50,\n",
              "         'Lambrusco Grasparossa': 18,\n",
              "         'Lambrusco Salamino': 3,\n",
              "         'Lambrusco di Sorbara': 19,\n",
              "         'Lemberger': 36,\n",
              "         'Listán Negro': 3,\n",
              "         \"Loin de l'Oeil\": 9,\n",
              "         'Loureiro': 29,\n",
              "         'Loureiro-Arinto': 1,\n",
              "         'Macabeo': 23,\n",
              "         'Macabeo-Chardonnay': 4,\n",
              "         'Macabeo-Moscatel': 1,\n",
              "         'Madeira Blend': 3,\n",
              "         'Madeleine Angevine': 2,\n",
              "         'Magliocco': 4,\n",
              "         'Malagousia': 12,\n",
              "         'Malagouzia': 4,\n",
              "         'Malagouzia-Chardonnay': 1,\n",
              "         'Malbec': 2652,\n",
              "         'Malbec Blend': 3,\n",
              "         'Malbec-Bonarda': 5,\n",
              "         'Malbec-Cabernet': 3,\n",
              "         'Malbec-Cabernet Franc': 11,\n",
              "         'Malbec-Cabernet Sauvignon': 58,\n",
              "         'Malbec-Carménère': 1,\n",
              "         'Malbec-Merlot': 96,\n",
              "         'Malbec-Petit Verdot': 4,\n",
              "         'Malbec-Syrah': 20,\n",
              "         'Malbec-Tannat': 16,\n",
              "         'Malbec-Tempranillo': 2,\n",
              "         'Malvar': 2,\n",
              "         'Malvasia': 44,\n",
              "         'Malvasia Bianca': 16,\n",
              "         'Malvasia Fina': 2,\n",
              "         'Malvasia Istriana': 9,\n",
              "         'Malvasia Nera': 6,\n",
              "         'Malvasia di Candia': 2,\n",
              "         'Malvasia-Viura': 3,\n",
              "         'Mandilaria': 2,\n",
              "         'Mansois': 4,\n",
              "         'Mantonico': 7,\n",
              "         'Manzoni': 8,\n",
              "         'Marawi': 3,\n",
              "         'Maria Gomes': 2,\n",
              "         'Maria Gomes-Bical': 1,\n",
              "         'Marquette': 2,\n",
              "         'Marsanne': 65,\n",
              "         'Marsanne-Roussanne': 22,\n",
              "         'Marsanne-Viognier': 2,\n",
              "         'Marselan': 4,\n",
              "         'Marzemino': 3,\n",
              "         'Mataro': 10,\n",
              "         'Maturana': 6,\n",
              "         'Mauzac': 7,\n",
              "         'Mavrodaphne': 5,\n",
              "         'Mavrokalavryta': 1,\n",
              "         'Mavrotragano': 1,\n",
              "         'Mavroudi': 1,\n",
              "         'Mavrud': 7,\n",
              "         'Mazuelo': 4,\n",
              "         'Melnik': 3,\n",
              "         'Melon': 280,\n",
              "         'Mencía': 178,\n",
              "         'Meritage': 260,\n",
              "         'Merlot': 3102,\n",
              "         'Merlot-Argaman': 1,\n",
              "         'Merlot-Cabernet': 11,\n",
              "         'Merlot-Cabernet Franc': 23,\n",
              "         'Merlot-Cabernet Sauvignon': 35,\n",
              "         'Merlot-Grenache': 1,\n",
              "         'Merlot-Malbec': 6,\n",
              "         'Merlot-Petite Verdot': 1,\n",
              "         'Merlot-Shiraz': 1,\n",
              "         'Merlot-Syrah': 2,\n",
              "         'Merlot-Tannat': 3,\n",
              "         'Merseguera-Sauvignon Blanc': 1,\n",
              "         'Meseguera': 1,\n",
              "         'Misket': 1,\n",
              "         'Mission': 7,\n",
              "         'Molinara': 1,\n",
              "         'Monastrell': 147,\n",
              "         'Monastrell-Petit Verdot': 2,\n",
              "         'Monastrell-Syrah': 21,\n",
              "         'Mondeuse': 15,\n",
              "         'Monica': 4,\n",
              "         'Montepulciano': 215,\n",
              "         'Morava': 1,\n",
              "         'Morillon': 7,\n",
              "         'Morio Muskat': 2,\n",
              "         'Moscadello': 6,\n",
              "         'Moscatel': 57,\n",
              "         'Moscatel Graúdo': 2,\n",
              "         'Moscatel Roxo': 6,\n",
              "         'Moscatel de Alejandría': 3,\n",
              "         'Moscato': 358,\n",
              "         'Moscato Giallo': 16,\n",
              "         'Moscato Rosa': 2,\n",
              "         'Moscato di Noto': 1,\n",
              "         'Moschofilero': 36,\n",
              "         'Moschofilero-Chardonnay': 1,\n",
              "         'Mourvèdre': 229,\n",
              "         'Mourvèdre-Syrah': 3,\n",
              "         'Mtsvane': 5,\n",
              "         'Muscadel': 1,\n",
              "         'Muscadelle': 10,\n",
              "         'Muscadine': 2,\n",
              "         'Muscat': 132,\n",
              "         'Muscat Blanc': 12,\n",
              "         'Muscat Blanc à Petits Grains': 3,\n",
              "         'Muscat Canelli': 36,\n",
              "         'Muscat Hamburg': 4,\n",
              "         \"Muscat d'Alexandrie\": 3,\n",
              "         'Muscat of Alexandria': 3,\n",
              "         'Muscatel': 3,\n",
              "         'Muskat': 4,\n",
              "         'Muskat Ottonel': 23,\n",
              "         'Muskateller': 5,\n",
              "         'Müller-Thurgau': 46,\n",
              "         'Narince': 7,\n",
              "         'Nascetta': 7,\n",
              "         'Nasco': 2,\n",
              "         'Nebbiolo': 2804,\n",
              "         'Negrette': 17,\n",
              "         'Negroamaro': 80,\n",
              "         'Nerello Cappuccio': 6,\n",
              "         'Nerello Mascalese': 117,\n",
              "         \"Nero d'Avola\": 365,\n",
              "         'Nero di Troia': 19,\n",
              "         'Neuburger': 11,\n",
              "         'Nielluciu': 3,\n",
              "         'Norton': 16,\n",
              "         'Nosiola': 8,\n",
              "         'Nuragus': 3,\n",
              "         'Ojaleshi': 1,\n",
              "         'Okuzgozu': 8,\n",
              "         'Ondenc': 1,\n",
              "         'Orange Muscat': 20,\n",
              "         'Orangetraube': 1,\n",
              "         'Other': 2,\n",
              "         'Otskhanuri Sapere': 1,\n",
              "         'Pallagrello': 10,\n",
              "         'Pallagrello Bianco': 5,\n",
              "         'Pallagrello Nero': 5,\n",
              "         'Palomino': 18,\n",
              "         'Pansa Blanca': 14,\n",
              "         'Papaskarasi': 3,\n",
              "         'Paralleda': 1,\n",
              "         'Parraleta': 1,\n",
              "         'Passerina': 24,\n",
              "         'País': 1,\n",
              "         'Pecorino': 54,\n",
              "         'Pedro Ximénez': 42,\n",
              "         'Perricone': 10,\n",
              "         'Petit Courbu': 1,\n",
              "         'Petit Manseng': 57,\n",
              "         'Petit Meslier': 1,\n",
              "         'Petit Verdot': 269,\n",
              "         'Petite Sirah': 770,\n",
              "         'Petite Verdot': 30,\n",
              "         'Picapoll': 1,\n",
              "         'Picolit': 27,\n",
              "         'Picpoul': 18,\n",
              "         'Piedirosso': 20,\n",
              "         'Pigato': 2,\n",
              "         'Pignoletto': 4,\n",
              "         'Pignolo': 1,\n",
              "         'Pinot Auxerrois': 13,\n",
              "         'Pinot Bianco': 154,\n",
              "         'Pinot Blanc': 442,\n",
              "         'Pinot Blanc-Chardonnay': 4,\n",
              "         'Pinot Blanc-Pinot Noir': 1,\n",
              "         'Pinot Blanc-Viognier': 1,\n",
              "         'Pinot Grigio': 1052,\n",
              "         'Pinot Grigio-Sauvignon Blanc': 1,\n",
              "         'Pinot Gris': 1455,\n",
              "         'Pinot Gris-Gewürztraminer': 1,\n",
              "         'Pinot Meunier': 45,\n",
              "         'Pinot Nero': 181,\n",
              "         'Pinot Noir': 13272,\n",
              "         'Pinot Noir-Gamay': 18,\n",
              "         'Pinot Noir-Syrah': 3,\n",
              "         'Pinot-Chardonnay': 6,\n",
              "         'Pinotage': 137,\n",
              "         'Pinotage-Merlot': 1,\n",
              "         'Piquepoul Blanc': 1,\n",
              "         'Plavac Mali': 17,\n",
              "         'Plyto': 2,\n",
              "         'Port': 668,\n",
              "         'Portuguese Red': 2466,\n",
              "         'Portuguese Rosé': 16,\n",
              "         'Portuguese Sparkling': 65,\n",
              "         'Portuguese White': 1159,\n",
              "         'Portuguiser': 2,\n",
              "         'Posip': 8,\n",
              "         'Poulsard': 3,\n",
              "         'Premsal': 1,\n",
              "         'Prieto Picudo': 15,\n",
              "         'Primitivo': 222,\n",
              "         'Prié Blanc': 6,\n",
              "         'Prosecco': 236,\n",
              "         'Provence red blend': 64,\n",
              "         'Provence white blend': 36,\n",
              "         'Prugnolo Gentile': 43,\n",
              "         'Prunelard': 1,\n",
              "         'Pugnitello': 3,\n",
              "         'Rabigato': 2,\n",
              "         'Raboso': 16,\n",
              "         'Ramisco': 1,\n",
              "         'Rara Neagra': 2,\n",
              "         'Rebo': 2,\n",
              "         'Rebula': 3,\n",
              "         'Red Blend': 8946,\n",
              "         'Refosco': 11,\n",
              "         'Rhône-style Red Blend': 1471,\n",
              "         'Rhône-style White Blend': 425,\n",
              "         'Ribolla Gialla': 87,\n",
              "         'Rieslaner': 6,\n",
              "         'Riesling': 5189,\n",
              "         'Riesling-Chardonnay': 1,\n",
              "         'Rivaner': 3,\n",
              "         'Rkatsiteli': 33,\n",
              "         'Robola': 4,\n",
              "         'Roditis': 4,\n",
              "         'Roditis-Moschofilero': 1,\n",
              "         'Rolle': 4,\n",
              "         'Romorantin': 3,\n",
              "         'Rosado': 77,\n",
              "         'Rosato': 103,\n",
              "         'Roscetto': 1,\n",
              "         'Rosenmuskateller': 2,\n",
              "         'Rosé': 3564,\n",
              "         'Roter Traminer': 6,\n",
              "         'Roter Veltliner': 13,\n",
              "         'Rotgipfler': 26,\n",
              "         'Roussanne': 168,\n",
              "         'Roussanne-Grenache Blanc': 1,\n",
              "         'Roussanne-Marsanne': 5,\n",
              "         'Roussanne-Viognier': 13,\n",
              "         'Roviello': 2,\n",
              "         'Ruché': 12,\n",
              "         'Rufete': 2,\n",
              "         'Ryzlink Rýnský': 1,\n",
              "         'Sacy': 2,\n",
              "         'Sagrantino': 104,\n",
              "         'Sangiovese': 2707,\n",
              "         'Sangiovese Cabernet': 4,\n",
              "         'Sangiovese Grosso': 751,\n",
              "         'Sangiovese-Cabernet Sauvignon': 6,\n",
              "         'Sangiovese-Syrah': 5,\n",
              "         'Saperavi': 37,\n",
              "         'Saperavi-Merlot': 2,\n",
              "         'Sauvignon': 316,\n",
              "         'Sauvignon Blanc': 4967,\n",
              "         'Sauvignon Blanc-Assyrtiko': 1,\n",
              "         'Sauvignon Blanc-Chardonnay': 8,\n",
              "         'Sauvignon Blanc-Chenin Blanc': 4,\n",
              "         'Sauvignon Blanc-Sauvignon Gris': 1,\n",
              "         'Sauvignon Blanc-Semillon': 68,\n",
              "         'Sauvignon Blanc-Verdejo': 4,\n",
              "         'Sauvignon Gris': 14,\n",
              "         'Sauvignon Musqué': 1,\n",
              "         'Sauvignon-Sémillon': 1,\n",
              "         'Sauvignonasse': 1,\n",
              "         'Savagnin': 22,\n",
              "         'Savatiano': 5,\n",
              "         'Scheurebe': 25,\n",
              "         'Schiava': 23,\n",
              "         'Schwartzriesling': 1,\n",
              "         'Sciaccerellu': 5,\n",
              "         'Semillon-Chardonnay': 5,\n",
              "         'Semillon-Sauvignon Blanc': 53,\n",
              "         'Sercial': 1,\n",
              "         'Seyval Blanc': 16,\n",
              "         'Sherry': 100,\n",
              "         'Shiraz': 836,\n",
              "         'Shiraz-Cabernet': 3,\n",
              "         'Shiraz-Cabernet Sauvignon': 39,\n",
              "         'Shiraz-Grenache': 15,\n",
              "         'Shiraz-Malbec': 3,\n",
              "         'Shiraz-Mourvèdre': 3,\n",
              "         'Shiraz-Roussanne': 1,\n",
              "         'Shiraz-Tempranillo': 2,\n",
              "         'Shiraz-Viognier': 38,\n",
              "         'Sideritis': 1,\n",
              "         'Siegerrebe': 1,\n",
              "         'Silvaner': 39,\n",
              "         'Silvaner-Traminer': 1,\n",
              "         'Siria': 12,\n",
              "         'Sirica': 2,\n",
              "         'Sousão': 8,\n",
              "         'Souzao': 3,\n",
              "         'Sparkling Blend': 2153,\n",
              "         'Spätburgunder': 72,\n",
              "         'St. Laurent': 92,\n",
              "         'St. Vincent': 1,\n",
              "         'Susumaniello': 6,\n",
              "         'Sylvaner': 53,\n",
              "         'Symphony': 5,\n",
              "         'Syrah': 4142,\n",
              "         'Syrah-Bonarda': 1,\n",
              "         'Syrah-Cabernet': 15,\n",
              "         'Syrah-Cabernet Franc': 5,\n",
              "         'Syrah-Cabernet Sauvignon': 37,\n",
              "         'Syrah-Carignan': 4,\n",
              "         'Syrah-Grenache': 58,\n",
              "         'Syrah-Grenache-Viognier': 1,\n",
              "         'Syrah-Malbec': 1,\n",
              "         'Syrah-Merlot': 7,\n",
              "         'Syrah-Mourvèdre': 20,\n",
              "         'Syrah-Petit Verdot': 3,\n",
              "         'Syrah-Petite Sirah': 16,\n",
              "         'Syrah-Tempranillo': 7,\n",
              "         'Syrah-Viognier': 18,\n",
              "         'Sämling': 5,\n",
              "         'Sémillon': 135,\n",
              "         'Tamianka': 1,\n",
              "         'Tamjanika': 2,\n",
              "         'Tannat': 178,\n",
              "         'Tannat-Cabernet': 31,\n",
              "         'Tannat-Cabernet Franc': 16,\n",
              "         'Tannat-Merlot': 11,\n",
              "         'Tannat-Syrah': 6,\n",
              "         'Tempranillo': 1810,\n",
              "         'Tempranillo Blanco': 9,\n",
              "         'Tempranillo Blend': 588,\n",
              "         'Tempranillo-Cabernet Sauvignon': 53,\n",
              "         'Tempranillo-Garnacha': 32,\n",
              "         'Tempranillo-Malbec': 1,\n",
              "         'Tempranillo-Merlot': 7,\n",
              "         'Tempranillo-Shiraz': 8,\n",
              "         'Tempranillo-Syrah': 2,\n",
              "         'Tempranillo-Tannat': 1,\n",
              "         'Teran': 7,\n",
              "         'Teroldego': 32,\n",
              "         'Teroldego Rotaliano': 1,\n",
              "         'Terrantez': 1,\n",
              "         'Thrapsathiri': 1,\n",
              "         'Timorasso': 5,\n",
              "         'Tinta Amarela': 1,\n",
              "         'Tinta Barroca': 5,\n",
              "         'Tinta Cao': 2,\n",
              "         'Tinta Fina': 11,\n",
              "         'Tinta Francisca': 3,\n",
              "         'Tinta Madeira': 1,\n",
              "         'Tinta Miúda': 3,\n",
              "         'Tinta Negra Mole': 1,\n",
              "         'Tinta Roriz': 11,\n",
              "         'Tinta de Toro': 166,\n",
              "         'Tinta del Pais': 2,\n",
              "         'Tinta del Toro': 3,\n",
              "         'Tintilia ': 1,\n",
              "         'Tinto Fino': 100,\n",
              "         'Tinto Velasco': 1,\n",
              "         'Tinto del Pais': 18,\n",
              "         'Tocai': 10,\n",
              "         'Tocai Friulano': 22,\n",
              "         'Tokaji': 24,\n",
              "         'Tokay': 7,\n",
              "         'Tokay Pinot Gris': 1,\n",
              "         'Torbato': 2,\n",
              "         'Torontel': 1,\n",
              "         'Torrontés': 250,\n",
              "         'Touriga': 3,\n",
              "         'Touriga Franca': 7,\n",
              "         'Touriga Nacional': 200,\n",
              "         'Touriga Nacional Blend': 19,\n",
              "         'Touriga Nacional-Cabernet Sauvignon': 28,\n",
              "         'Trajadura': 1,\n",
              "         'Traminer': 39,\n",
              "         'Traminette': 10,\n",
              "         'Trebbiano': 51,\n",
              "         'Trebbiano Spoletino': 7,\n",
              "         'Trebbiano di Lugana': 3,\n",
              "         'Treixadura': 3,\n",
              "         'Trepat': 10,\n",
              "         'Trincadeira': 26,\n",
              "         'Trollinger': 2,\n",
              "         'Trousseau': 6,\n",
              "         'Trousseau Gris': 3,\n",
              "         'Tsapournakos': 1,\n",
              "         'Tsolikouri': 1,\n",
              "         'Turbiana': 157,\n",
              "         'Tămâioasă Românească': 2,\n",
              "         'Ugni Blanc': 3,\n",
              "         'Ugni Blanc-Colombard': 9,\n",
              "         'Uva di Troia': 13,\n",
              "         'Uvalino': 2,\n",
              "         'Valdiguié': 6,\n",
              "         'Valvin Muscat': 1,\n",
              "         'Veltliner': 4,\n",
              "         'Verdeca': 5,\n",
              "         'Verdejo': 294,\n",
              "         'Verdejo-Sauvignon Blanc': 5,\n",
              "         'Verdejo-Viura': 22,\n",
              "         'Verdelho': 65,\n",
              "         'Verdicchio': 164,\n",
              "         'Verdil': 1,\n",
              "         'Verdosilla': 1,\n",
              "         'Verduzzo': 6,\n",
              "         'Verduzzo Friulano ': 3,\n",
              "         'Vermentino': 232,\n",
              "         'Vermentino Nero': 1,\n",
              "         'Vernaccia': 138,\n",
              "         'Vespaiolo': 1,\n",
              "         'Vespolina': 2,\n",
              "         'Vidadillo': 1,\n",
              "         'Vidal': 11,\n",
              "         'Vidal Blanc': 55,\n",
              "         'Vignoles': 11,\n",
              "         'Vilana': 4,\n",
              "         'Vinhão': 4,\n",
              "         'Viognier': 996,\n",
              "         'Viognier-Chardonnay': 12,\n",
              "         'Viognier-Gewürztraminer': 2,\n",
              "         'Viognier-Grenache Blanc': 3,\n",
              "         'Viognier-Marsanne': 3,\n",
              "         'Viognier-Roussanne': 7,\n",
              "         'Viognier-Valdiguié': 1,\n",
              "         'Viosinho': 5,\n",
              "         'Vital': 1,\n",
              "         'Vitovska': 3,\n",
              "         'Viura': 107,\n",
              "         'Viura-Chardonnay': 13,\n",
              "         'Viura-Verdejo': 2,\n",
              "         'Vranac': 1,\n",
              "         'Vranec': 4,\n",
              "         'Weissburgunder': 47,\n",
              "         'Welschriesling': 25,\n",
              "         'White Blend': 2360,\n",
              "         'White Port': 2,\n",
              "         'White Riesling': 13,\n",
              "         'Xarel-lo': 21,\n",
              "         'Xinisteri': 1,\n",
              "         'Xinomavro': 33,\n",
              "         'Xynisteri': 2,\n",
              "         'Yapincak': 2,\n",
              "         'Zelen': 1,\n",
              "         'Zibibbo': 31,\n",
              "         'Zierfandler': 16,\n",
              "         'Zierfandler-Rotgipfler': 5,\n",
              "         'Zinfandel': 2714,\n",
              "         'Zlahtina': 2,\n",
              "         'Zweigelt': 209,\n",
              "         nan: 1,\n",
              "         'Çalkarası': 2,\n",
              "         'Žilavka': 1})"
            ]
          },
          "metadata": {
            "tags": []
          },
          "execution_count": 18
        }
      ]
    },
    {
      "metadata": {
        "id": "C5jD3HH9sVSD",
        "colab_type": "code",
        "outputId": "e572d675-abd3-4bd6-fb90-51552a68e707",
        "colab": {
          "base_uri": "https://localhost:8080/",
          "height": 187
        }
      },
      "cell_type": "code",
      "source": [
        "top_10_varieties = {i[0]: idx for idx, i in enumerate(counter.most_common(10))}\n",
        "top_10_varieties"
      ],
      "execution_count": 0,
      "outputs": [
        {
          "output_type": "execute_result",
          "data": {
            "text/plain": [
              "{'Bordeaux-style Red Blend': 4,\n",
              " 'Cabernet Sauvignon': 2,\n",
              " 'Chardonnay': 1,\n",
              " 'Merlot': 9,\n",
              " 'Pinot Noir': 0,\n",
              " 'Red Blend': 3,\n",
              " 'Riesling': 5,\n",
              " 'Rosé': 8,\n",
              " 'Sauvignon Blanc': 6,\n",
              " 'Syrah': 7}"
            ]
          },
          "metadata": {
            "tags": []
          },
          "execution_count": 19
        }
      ]
    },
    {
      "metadata": {
        "id": "7f8GaWeEsWDv",
        "colab_type": "code",
        "colab": {}
      },
      "cell_type": "code",
      "source": [
        "df=df[df['variety'].map(lambda x: x in top_10_varieties)]"
      ],
      "execution_count": 0,
      "outputs": []
    },
    {
      "metadata": {
        "id": "jnzwfmtesW_I",
        "colab_type": "code",
        "outputId": "8dc25fab-dcd2-4b5e-87c7-010b693e937a",
        "colab": {
          "base_uri": "https://localhost:8080/",
          "height": 649
        }
      },
      "cell_type": "code",
      "source": [
        "df.head(5)"
      ],
      "execution_count": 0,
      "outputs": [
        {
          "output_type": "execute_result",
          "data": {
            "text/html": [
              "<div>\n",
              "<style scoped>\n",
              "    .dataframe tbody tr th:only-of-type {\n",
              "        vertical-align: middle;\n",
              "    }\n",
              "\n",
              "    .dataframe tbody tr th {\n",
              "        vertical-align: top;\n",
              "    }\n",
              "\n",
              "    .dataframe thead th {\n",
              "        text-align: right;\n",
              "    }\n",
              "</style>\n",
              "<table border=\"1\" class=\"dataframe\">\n",
              "  <thead>\n",
              "    <tr style=\"text-align: right;\">\n",
              "      <th></th>\n",
              "      <th>Unnamed: 0</th>\n",
              "      <th>country</th>\n",
              "      <th>description</th>\n",
              "      <th>designation</th>\n",
              "      <th>points</th>\n",
              "      <th>price</th>\n",
              "      <th>province</th>\n",
              "      <th>region_1</th>\n",
              "      <th>region_2</th>\n",
              "      <th>taster_name</th>\n",
              "      <th>taster_twitter_handle</th>\n",
              "      <th>title</th>\n",
              "      <th>variety</th>\n",
              "      <th>winery</th>\n",
              "    </tr>\n",
              "  </thead>\n",
              "  <tbody>\n",
              "    <tr>\n",
              "      <th>3</th>\n",
              "      <td>3</td>\n",
              "      <td>US</td>\n",
              "      <td>Pineapple rind, lemon pith and orange blossom ...</td>\n",
              "      <td>Reserve Late Harvest</td>\n",
              "      <td>87</td>\n",
              "      <td>13.0</td>\n",
              "      <td>Michigan</td>\n",
              "      <td>Lake Michigan Shore</td>\n",
              "      <td>NaN</td>\n",
              "      <td>Alexander Peartree</td>\n",
              "      <td>NaN</td>\n",
              "      <td>St. Julian 2013 Reserve Late Harvest Riesling ...</td>\n",
              "      <td>Riesling</td>\n",
              "      <td>St. Julian</td>\n",
              "    </tr>\n",
              "    <tr>\n",
              "      <th>4</th>\n",
              "      <td>4</td>\n",
              "      <td>US</td>\n",
              "      <td>Much like the regular bottling from 2012, this...</td>\n",
              "      <td>Vintner's Reserve Wild Child Block</td>\n",
              "      <td>87</td>\n",
              "      <td>65.0</td>\n",
              "      <td>Oregon</td>\n",
              "      <td>Willamette Valley</td>\n",
              "      <td>Willamette Valley</td>\n",
              "      <td>Paul Gregutt</td>\n",
              "      <td>@paulgwine</td>\n",
              "      <td>Sweet Cheeks 2012 Vintner's Reserve Wild Child...</td>\n",
              "      <td>Pinot Noir</td>\n",
              "      <td>Sweet Cheeks</td>\n",
              "    </tr>\n",
              "    <tr>\n",
              "      <th>10</th>\n",
              "      <td>10</td>\n",
              "      <td>US</td>\n",
              "      <td>Soft, supple plum envelopes an oaky structure ...</td>\n",
              "      <td>Mountain Cuvée</td>\n",
              "      <td>87</td>\n",
              "      <td>19.0</td>\n",
              "      <td>California</td>\n",
              "      <td>Napa Valley</td>\n",
              "      <td>Napa</td>\n",
              "      <td>Virginie Boone</td>\n",
              "      <td>@vboone</td>\n",
              "      <td>Kirkland Signature 2011 Mountain Cuvée Caberne...</td>\n",
              "      <td>Cabernet Sauvignon</td>\n",
              "      <td>Kirkland Signature</td>\n",
              "    </tr>\n",
              "    <tr>\n",
              "      <th>12</th>\n",
              "      <td>12</td>\n",
              "      <td>US</td>\n",
              "      <td>Slightly reduced, this wine offers a chalky, t...</td>\n",
              "      <td>NaN</td>\n",
              "      <td>87</td>\n",
              "      <td>34.0</td>\n",
              "      <td>California</td>\n",
              "      <td>Alexander Valley</td>\n",
              "      <td>Sonoma</td>\n",
              "      <td>Virginie Boone</td>\n",
              "      <td>@vboone</td>\n",
              "      <td>Louis M. Martini 2012 Cabernet Sauvignon (Alex...</td>\n",
              "      <td>Cabernet Sauvignon</td>\n",
              "      <td>Louis M. Martini</td>\n",
              "    </tr>\n",
              "    <tr>\n",
              "      <th>14</th>\n",
              "      <td>14</td>\n",
              "      <td>US</td>\n",
              "      <td>Building on 150 years and six generations of w...</td>\n",
              "      <td>NaN</td>\n",
              "      <td>87</td>\n",
              "      <td>12.0</td>\n",
              "      <td>California</td>\n",
              "      <td>Central Coast</td>\n",
              "      <td>Central Coast</td>\n",
              "      <td>Matt Kettmann</td>\n",
              "      <td>@mattkettmann</td>\n",
              "      <td>Mirassou 2012 Chardonnay (Central Coast)</td>\n",
              "      <td>Chardonnay</td>\n",
              "      <td>Mirassou</td>\n",
              "    </tr>\n",
              "  </tbody>\n",
              "</table>\n",
              "</div>"
            ],
            "text/plain": [
              "    Unnamed: 0 country                                        description  \\\n",
              "3            3      US  Pineapple rind, lemon pith and orange blossom ...   \n",
              "4            4      US  Much like the regular bottling from 2012, this...   \n",
              "10          10      US  Soft, supple plum envelopes an oaky structure ...   \n",
              "12          12      US  Slightly reduced, this wine offers a chalky, t...   \n",
              "14          14      US  Building on 150 years and six generations of w...   \n",
              "\n",
              "                           designation  points  price    province  \\\n",
              "3                 Reserve Late Harvest      87   13.0    Michigan   \n",
              "4   Vintner's Reserve Wild Child Block      87   65.0      Oregon   \n",
              "10                      Mountain Cuvée      87   19.0  California   \n",
              "12                                 NaN      87   34.0  California   \n",
              "14                                 NaN      87   12.0  California   \n",
              "\n",
              "               region_1           region_2         taster_name  \\\n",
              "3   Lake Michigan Shore                NaN  Alexander Peartree   \n",
              "4     Willamette Valley  Willamette Valley        Paul Gregutt   \n",
              "10          Napa Valley               Napa      Virginie Boone   \n",
              "12     Alexander Valley             Sonoma      Virginie Boone   \n",
              "14        Central Coast      Central Coast       Matt Kettmann   \n",
              "\n",
              "   taster_twitter_handle                                              title  \\\n",
              "3                    NaN  St. Julian 2013 Reserve Late Harvest Riesling ...   \n",
              "4            @paulgwine   Sweet Cheeks 2012 Vintner's Reserve Wild Child...   \n",
              "10               @vboone  Kirkland Signature 2011 Mountain Cuvée Caberne...   \n",
              "12               @vboone  Louis M. Martini 2012 Cabernet Sauvignon (Alex...   \n",
              "14         @mattkettmann           Mirassou 2012 Chardonnay (Central Coast)   \n",
              "\n",
              "               variety              winery  \n",
              "3             Riesling          St. Julian  \n",
              "4           Pinot Noir        Sweet Cheeks  \n",
              "10  Cabernet Sauvignon  Kirkland Signature  \n",
              "12  Cabernet Sauvignon    Louis M. Martini  \n",
              "14          Chardonnay            Mirassou  "
            ]
          },
          "metadata": {
            "tags": []
          },
          "execution_count": 22
        }
      ]
    },
    {
      "metadata": {
        "id": "N4_4-x_Iuf7i",
        "colab_type": "code",
        "outputId": "cc66b9b5-d4b1-4855-9ae4-3438dd8a1b07",
        "colab": {
          "base_uri": "https://localhost:8080/",
          "height": 51
        }
      },
      "cell_type": "code",
      "source": [
        "description_list = df['description'].tolist()\n",
        "print(type(df['description']))\n",
        "print(type(description_list))"
      ],
      "execution_count": 0,
      "outputs": [
        {
          "output_type": "stream",
          "text": [
            "<class 'pandas.core.series.Series'>\n",
            "<class 'list'>\n"
          ],
          "name": "stdout"
        }
      ]
    },
    {
      "metadata": {
        "id": "OUEvUXpPv-64",
        "colab_type": "code",
        "outputId": "145271be-cd66-4af6-93d9-fb858e73da47",
        "colab": {
          "base_uri": "https://localhost:8080/",
          "height": 88
        }
      },
      "cell_type": "code",
      "source": [
        "description_list[0:3]"
      ],
      "execution_count": 0,
      "outputs": [
        {
          "output_type": "execute_result",
          "data": {
            "text/plain": [
              "['Pineapple rind, lemon pith and orange blossom start off the aromas. The palate is a bit more opulent, with notes of honey-drizzled guava and mango giving way to a slightly astringent, semidry finish.',\n",
              " \"Much like the regular bottling from 2012, this comes across as rather rough and tannic, with rustic, earthy, herbal characteristics. Nonetheless, if you think of it as a pleasantly unfussy country wine, it's a good companion to a hearty winter stew.\",\n",
              " 'Soft, supple plum envelopes an oaky structure in this Cabernet, supported by 15% Merlot. Coffee and chocolate complete the picture, finishing strong at the end, resulting in a value-priced wine of attractive flavor and immediate accessibility.']"
            ]
          },
          "metadata": {
            "tags": []
          },
          "execution_count": 28
        }
      ]
    },
    {
      "metadata": {
        "id": "AJgqJeGmwKdv",
        "colab_type": "code",
        "outputId": "3bc1dd62-8105-4b35-decc-f76a874299fb",
        "colab": {
          "base_uri": "https://localhost:8080/",
          "height": 54
        }
      },
      "cell_type": "code",
      "source": [
        "print(description_list[0:3],sep=':')"
      ],
      "execution_count": 0,
      "outputs": [
        {
          "output_type": "stream",
          "text": [
            "['Pineapple rind, lemon pith and orange blossom start off the aromas. The palate is a bit more opulent, with notes of honey-drizzled guava and mango giving way to a slightly astringent, semidry finish.', \"Much like the regular bottling from 2012, this comes across as rather rough and tannic, with rustic, earthy, herbal characteristics. Nonetheless, if you think of it as a pleasantly unfussy country wine, it's a good companion to a hearty winter stew.\", 'Soft, supple plum envelopes an oaky structure in this Cabernet, supported by 15% Merlot. Coffee and chocolate complete the picture, finishing strong at the end, resulting in a value-priced wine of attractive flavor and immediate accessibility.']\n"
          ],
          "name": "stdout"
        }
      ]
    },
    {
      "metadata": {
        "id": "WvgBvjBXuhKV",
        "colab_type": "code",
        "colab": {}
      },
      "cell_type": "code",
      "source": [
        "varietal_list = [top_10_varieties[i] for i in df['variety'].tolist()]\n",
        "varietal_list = np.array(varietal_list)"
      ],
      "execution_count": 0,
      "outputs": []
    },
    {
      "metadata": {
        "id": "renk21Q1uikS",
        "colab_type": "code",
        "outputId": "1a869e57-c807-429c-f011-cd9997e11ab5",
        "colab": {
          "base_uri": "https://localhost:8080/",
          "height": 34
        }
      },
      "cell_type": "code",
      "source": [
        "varietal_list"
      ],
      "execution_count": 0,
      "outputs": [
        {
          "output_type": "execute_result",
          "data": {
            "text/plain": [
              "array([5, 0, 2, ..., 2, 5, 0])"
            ]
          },
          "metadata": {
            "tags": []
          },
          "execution_count": 27
        }
      ]
    },
    {
      "metadata": {
        "id": "uNTUe862v3Mg",
        "colab_type": "code",
        "colab": {}
      },
      "cell_type": "code",
      "source": [
        "count_vect = CountVectorizer()\n",
        "x_train_counts = count_vect.fit_transform(description_list)"
      ],
      "execution_count": 0,
      "outputs": []
    },
    {
      "metadata": {
        "id": "r1-MOQDPwvXq",
        "colab_type": "code",
        "outputId": "c3ada325-2a05-4c92-ad65-9ae31ceed4c7",
        "colab": {
          "base_uri": "https://localhost:8080/",
          "height": 34
        }
      },
      "cell_type": "code",
      "source": [
        "x_train_counts.shape"
      ],
      "execution_count": 0,
      "outputs": [
        {
          "output_type": "execute_result",
          "data": {
            "text/plain": [
              "(71322, 23888)"
            ]
          },
          "metadata": {
            "tags": []
          },
          "execution_count": 34
        }
      ]
    },
    {
      "metadata": {
        "id": "vGzwFIIsw8IF",
        "colab_type": "code",
        "outputId": "9b664470-fb48-4dc5-adc2-6b22b24a5566",
        "colab": {
          "base_uri": "https://localhost:8080/",
          "height": 51
        }
      },
      "cell_type": "code",
      "source": [
        "x_train_counts[0:3]"
      ],
      "execution_count": 0,
      "outputs": [
        {
          "output_type": "execute_result",
          "data": {
            "text/plain": [
              "<3x23888 sparse matrix of type '<class 'numpy.int64'>'\n",
              "\twith 99 stored elements in Compressed Sparse Row format>"
            ]
          },
          "metadata": {
            "tags": []
          },
          "execution_count": 35
        }
      ]
    },
    {
      "metadata": {
        "id": "OqABjLPjxHBC",
        "colab_type": "code",
        "colab": {}
      },
      "cell_type": "code",
      "source": [
        "tfidf_transformer = TfidfTransformer()\n",
        "x_train_tfidf = tfidf_transformer.fit_transform(x_train_counts)"
      ],
      "execution_count": 0,
      "outputs": []
    },
    {
      "metadata": {
        "id": "6EQ90xksxIlo",
        "colab_type": "code",
        "outputId": "a300b2ae-4c3d-433d-add1-7fde609a5777",
        "colab": {
          "base_uri": "https://localhost:8080/",
          "height": 51
        }
      },
      "cell_type": "code",
      "source": [
        "x_train_tfidf[0:3]"
      ],
      "execution_count": 0,
      "outputs": [
        {
          "output_type": "execute_result",
          "data": {
            "text/plain": [
              "<3x23888 sparse matrix of type '<class 'numpy.float64'>'\n",
              "\twith 99 stored elements in Compressed Sparse Row format>"
            ]
          },
          "metadata": {
            "tags": []
          },
          "execution_count": 37
        }
      ]
    },
    {
      "metadata": {
        "id": "tHdq5E_RxJ-_",
        "colab_type": "code",
        "colab": {}
      },
      "cell_type": "code",
      "source": [
        "train_x, test_x, train_y, test_y = train_test_split(x_train_tfidf, varietal_list, test_size=0.3)\n",
        "\n",
        "clf = MultinomialNB().fit(train_x, train_y)\n",
        "y_score = clf.predict(test_x)"
      ],
      "execution_count": 0,
      "outputs": []
    },
    {
      "metadata": {
        "id": "w5FAglGaz2SB",
        "colab_type": "code",
        "colab": {}
      },
      "cell_type": "code",
      "source": [
        "n_right = 0\n",
        "for i in range(len(y_score)):\n",
        "    if y_score[i] == test_y[i]:\n",
        "        n_right += 1"
      ],
      "execution_count": 0,
      "outputs": []
    },
    {
      "metadata": {
        "id": "U2XMGqCJ0Kkl",
        "colab_type": "code",
        "outputId": "cc71b125-826b-4181-a3e1-e5cbde0ba1ca",
        "colab": {
          "base_uri": "https://localhost:8080/",
          "height": 51
        }
      },
      "cell_type": "code",
      "source": [
        "print(n_right)\n",
        "print(len(test_y))"
      ],
      "execution_count": 0,
      "outputs": [
        {
          "output_type": "stream",
          "text": [
            "13574\n",
            "21397\n"
          ],
          "name": "stdout"
        }
      ]
    },
    {
      "metadata": {
        "id": "p2kC7N2f0YfR",
        "colab_type": "code",
        "outputId": "f0a64c87-f5a9-4444-f0e8-c512891079e2",
        "colab": {
          "base_uri": "https://localhost:8080/",
          "height": 34
        }
      },
      "cell_type": "code",
      "source": [
        "print(\"Accuracy: %.2f%%\" % ((n_right/float(len(test_y)) * 100)))"
      ],
      "execution_count": 0,
      "outputs": [
        {
          "output_type": "stream",
          "text": [
            "Accuracy: 63.44%\n"
          ],
          "name": "stdout"
        }
      ]
    },
    {
      "metadata": {
        "id": "FDdt3ei-1DzG",
        "colab_type": "text"
      },
      "cell_type": "markdown",
      "source": [
        "Considering  10 classes, this is quite a good result.\n",
        "\n",
        "Use support vector machine and see how it would do. To see how it performs, simply replace the classifier definition with"
      ]
    },
    {
      "metadata": {
        "id": "MM5ti5EL1FSd",
        "colab_type": "text"
      },
      "cell_type": "markdown",
      "source": [
        ""
      ]
    },
    {
      "metadata": {
        "id": "4m7h01Jo0ZdN",
        "colab_type": "code",
        "outputId": "85e8b3c8-ae50-4a9f-e817-eac5201bc444",
        "colab": {
          "base_uri": "https://localhost:8080/",
          "height": 34
        }
      },
      "cell_type": "code",
      "source": [
        "from sklearn import svm\n",
        "clf = svm.SVC(kernel='linear').fit(train_x, train_y)\n",
        "y_score = clf.predict(test_x)\n",
        "n_right = 0\n",
        "for i in range(len(y_score)):\n",
        "    if y_score[i] == test_y[i]:\n",
        "        n_right += 1\n",
        "\n",
        "print(\" SVC Accuracy: %.2f%%\" % ((n_right/float(len(test_y)) * 100)))"
      ],
      "execution_count": 0,
      "outputs": [
        {
          "output_type": "stream",
          "text": [
            " SVC Accuracy: 80.60%\n"
          ],
          "name": "stdout"
        }
      ]
    },
    {
      "metadata": {
        "id": "cX6nn7ROjAIK",
        "colab_type": "code",
        "outputId": "0b16f868-8946-4fd4-e8de-c8ec644a0607",
        "colab": {
          "base_uri": "https://localhost:8080/",
          "height": 34
        }
      },
      "cell_type": "code",
      "source": [
        "counter = Counter(df['variety'].tolist())\n",
        "top_10_varieties = {i[0]: idx for idx, i in enumerate(counter.most_common(10))}\n",
        "df = df[df['variety'].map(lambda x: x in top_10_varieties)]\n",
        "\n",
        "description_list = df['description'].tolist()\n",
        "varietal_list = [top_10_varieties[i] for i in df['variety'].tolist()]\n",
        "varietal_list = np.array(varietal_list)\n",
        "\n",
        "count_vect = CountVectorizer()\n",
        "x_train_counts = count_vect.fit_transform(description_list)\n",
        "\n",
        "\n",
        "tfidf_transformer = TfidfTransformer()\n",
        "x_train_tfidf = tfidf_transformer.fit_transform(x_train_counts)\n",
        "\n",
        "train_x, test_x, train_y, test_y = train_test_split(x_train_tfidf, varietal_list, test_size=0.3)\n",
        "\n",
        "clf = MultinomialNB().fit(train_x, train_y)\n",
        "y_score = clf.predict(test_x)\n",
        "\n",
        "n_right = 0\n",
        "for i in range(len(y_score)):\n",
        "    if y_score[i] == test_y[i]:\n",
        "        n_right += 1\n",
        "\n",
        "print(\"Accuracy: %.2f%%\" % ((n_right/float(len(test_y)) * 100)))"
      ],
      "execution_count": 0,
      "outputs": [
        {
          "output_type": "stream",
          "text": [
            "Accuracy: 63.26%\n"
          ],
          "name": "stdout"
        }
      ]
    },
    {
      "metadata": {
        "id": "cgRqBwZi2uWt",
        "colab_type": "text"
      },
      "cell_type": "markdown",
      "source": [
        "Deep Learning with NLP"
      ]
    },
    {
      "metadata": {
        "id": "ctEldp-I2wMt",
        "colab_type": "text"
      },
      "cell_type": "markdown",
      "source": [
        "**Building the Model**\n",
        "Today, we will be using Keras with Tensorflow to build our model. Keras is a Python library that makes building deep learning models very easy compared to the relatively low-level interface of the Tensorflow API. In addition to the dense layers, we will also use embedding and convolutional layers to learn the underlying semantic information of the words and potential structural patterns within the data."
      ]
    },
    {
      "metadata": {
        "id": "aaRHwlYs-Quk",
        "colab_type": "text"
      },
      "cell_type": "markdown",
      "source": [
        "**Data Cleaning**\n",
        "It is essential to restructure the data in a way that can be easily processed and understood by the neural network. Replacing the words with uniquely identifying numbers helps.Combined with an embedding vector, the words can be represented  in a manner that is both flexible and semantically sensitive.\n",
        "\n",
        "In preprocessing phase It would make sense to focus on the commonly used words, and to also filter out the most commonly used words (e.g., the, this, a).\n",
        "\n",
        "Implement this functionality using Defaultdict and NLTK.( Write the following code into a separate Python module)"
      ]
    },
    {
      "metadata": {
        "id": "-WT7uwZY2oWc",
        "colab_type": "code",
        "colab": {}
      },
      "cell_type": "code",
      "source": [
        "from nltk import word_tokenize\n",
        "from collections import defaultdict\n",
        "\n",
        "def count_top_x_words(corpus, top_x, skip_top_n):\n",
        "    count = defaultdict(lambda: 0)\n",
        "    for c in corpus:\n",
        "        for w in word_tokenize(c):\n",
        "            count[w] += 1\n",
        "    count_tuples = sorted([(w, c) for w, c in count.items()], key=lambda x: x[1], reverse=True)\n",
        "    return [i[0] for i in count_tuples[skip_top_n: skip_top_n + top_x]]\n",
        "\n",
        "\n",
        "def replace_top_x_words_with_vectors(corpus, top_x):\n",
        "    topx_dict = {top_x[i]: i for i in range(len(top_x))}\n",
        "\n",
        "    return [\n",
        "        [topx_dict[w] for w in word_tokenize(s) if w in topx_dict]\n",
        "        for s in corpus\n",
        "    ], topx_dict\n",
        "\n",
        "\n",
        "def filter_to_top_x(corpus, n_top, skip_n_top=0):\n",
        "    top_x = count_top_x_words(corpus, n_top, skip_n_top)\n",
        "    return replace_top_x_words_with_vectors(corpus, top_x)"
      ],
      "execution_count": 0,
      "outputs": []
    },
    {
      "metadata": {
        "id": "aYLm4S0t_tBy",
        "colab_type": "text"
      },
      "cell_type": "markdown",
      "source": [
        "Now it is time to build the model. The network will have an  embedding layer, a convolutional layer, and a dense layer to take advantage of all of the deep learning features that can be helpful for theapplication. The model can be built with Keras."
      ]
    },
    {
      "metadata": {
        "id": "YsstPbWJADWl",
        "colab_type": "code",
        "outputId": "76ae899f-bb9d-435d-e503-59894eb36a06",
        "colab": {
          "base_uri": "https://localhost:8080/",
          "height": 34
        }
      },
      "cell_type": "code",
      "source": [
        "from keras.models import Sequential\n",
        "from keras.layers import Dense, Conv1D, Flatten\n",
        "from keras.layers.embeddings import Embedding\n",
        "from keras.preprocessing import sequence\n",
        "from keras.utils import to_categorical\n",
        "import pandas as pd\n",
        "from collections import Counter\n",
        "from sklearn.model_selection import train_test_split"
      ],
      "execution_count": 0,
      "outputs": [
        {
          "output_type": "stream",
          "text": [
            "Using TensorFlow backend.\n"
          ],
          "name": "stderr"
        }
      ]
    },
    {
      "metadata": {
        "id": "C2KNAaFhA--B",
        "colab_type": "code",
        "colab": {}
      },
      "cell_type": "code",
      "source": [
        ""
      ],
      "execution_count": 0,
      "outputs": []
    },
    {
      "metadata": {
        "id": "01br7YwxBADJ",
        "colab_type": "code",
        "colab": {}
      },
      "cell_type": "code",
      "source": [
        "from keras.models import Sequential\n",
        "from keras.layers import Dense, Conv1D, Flatten\n",
        "from keras.layers.embeddings import Embedding\n",
        "from keras.preprocessing import sequence\n",
        "from keras.utils import to_categorical\n",
        "import pandas as pd\n",
        "from collections import Counter\n",
        "from sklearn.model_selection import train_test_split\n",
        "from lib.get_top_xwords import filter_to_top_x\n",
        "\n",
        "df = pd.read_csv('data/wine_data.csv')\n",
        "\n",
        "counter = Counter(df['variety'].tolist())\n",
        "top_10_varieties = {i[0]: idx for idx, i in enumerate(counter.most_common(10))}\n",
        "df = df[df['variety'].map(lambda x: x in top_10_varieties)]\n",
        "\n",
        "description_list = df['description'].tolist()\n",
        "mapped_list, word_list = filter_to_top_x(description_list, 2500, 10)\n",
        "varietal_list_o = [top_10_varieties[i] for i in df['variety'].tolist()]\n",
        "from keras.models import Sequential\n",
        "from keras.layers import Dense, Conv1D, Flatten\n",
        "from keras.layers.embeddings import Embedding\n",
        "from keras.preprocessing import sequence\n",
        "from keras.utils import to_categorical\n",
        "import pandas as pd\n",
        "from collections import Counter\n",
        "from sklearn.model_selection import train_test_split\n",
        "from lib.get_top_xwords import filter_to_top_x\n",
        "\n",
        "df = pd.read_csv('data/wine_data.csv')\n",
        "\n",
        "counter = Counter(df['variety'].tolist())\n",
        "top_10_varieties = {i[0]: idx for idx, i in enumerate(counter.most_common(10))}\n",
        "df = df[df['variety'].map(lambda x: x in top_10_varieties)]\n",
        "\n",
        "description_list = df['description'].tolist()\n",
        "mapped_list, word_list = filter_to_top_x(description_list, 2500, 10)\n",
        "varietal_list_o = [top_10_varieties[i] for i in df['variety'].tolist()]\n",
        "varietal_list = to_categorical(varietal_list_o)\n",
        "\n",
        "max_review_length = 150\n",
        "\n",
        "mapped_list = sequence.pad_sequences(mapped_list, maxlen=max_review_length)\n",
        "train_x, test_x, train_y, test_y = train_test_split(mapped_list, varietal_list, test_size=0.3)\n",
        "\n",
        "max_review_length = 150\n",
        "\n",
        "embedding_vector_length = 64\n",
        "model = Sequential()\n",
        "\n",
        "model.add(Embedding(2500, embedding_vector_length, input_length=max_review_length))\n",
        "model.add(Conv1D(50, 5))\n",
        "model.add(Flatten())\n",
        "model.add(Dense(100, activation='relu'))\n",
        "model.add(Dense(max(varietal_list_o) + 1, activation='softmax'))\n",
        "model.compile(loss='categorical_crossentropy', optimizer='adam', metrics=['accuracy'])\n",
        "model.fit(train_x, train_y, epochs=3, batch_size=64)\n",
        "\n",
        "y_score = model.predict(test_x)\n",
        "y_score = [[1 if i == max(sc) else 0 for i in sc] for sc in y_score]\n",
        "n_right = 0\n",
        "for i in range(len(y_score)):\n",
        "    if all(y_score[i][j] == test_y[i][j] for j in range(len(y_score[i]))):\n",
        "        n_right += 1\n",
        "\n",
        "print(\"Accuracy: %.2f%%\" % ((n_right/float(len(test_y)) * 100)))"
      ],
      "execution_count": 0,
      "outputs": []
    },
    {
      "metadata": {
        "id": "N3sN3cRdqOpr",
        "colab_type": "code",
        "outputId": "fd10e782-ae1d-472b-e2b6-e76c2fe9fa60",
        "colab": {
          "base_uri": "https://localhost:8080/",
          "height": 51
        }
      },
      "cell_type": "code",
      "source": [
        "\n",
        "#from lib.get_top_xwords import filter_to_top_x\n",
        "import nltk\n",
        "nltk.download('punkt')\n",
        "\n",
        "\n",
        "description_list = df['description'].tolist()\n",
        "mapped_list, word_list = filter_to_top_x(description_list, 2500, 10)\n",
        "varietal_list_o = [top_10_varieties[i] for i in df['variety'].tolist()]\n",
        "varietal_list = to_categorical(varietal_list_o)\n",
        "\n"
      ],
      "execution_count": 0,
      "outputs": [
        {
          "output_type": "stream",
          "text": [
            "[nltk_data] Downloading package punkt to /root/nltk_data...\n",
            "[nltk_data]   Unzipping tokenizers/punkt.zip.\n"
          ],
          "name": "stdout"
        }
      ]
    },
    {
      "metadata": {
        "id": "BIeo_sNhCuQs",
        "colab_type": "code",
        "colab": {}
      },
      "cell_type": "code",
      "source": [
        "max_review_length = 150\n",
        "\n",
        "mapped_list = sequence.pad_sequences(mapped_list, maxlen=max_review_length)\n",
        "train_x, test_x, train_y, test_y = train_test_split(mapped_list, varietal_list, test_size=0.3)\n",
        "\n",
        "max_review_length = 150\n",
        "\n",
        "embedding_vector_length = 64"
      ],
      "execution_count": 0,
      "outputs": []
    },
    {
      "metadata": {
        "id": "95RYf3mPCvgv",
        "colab_type": "code",
        "outputId": "d3613e02-c00e-43c9-8ce4-f70f32746675",
        "colab": {
          "base_uri": "https://localhost:8080/",
          "height": 136
        }
      },
      "cell_type": "code",
      "source": [
        "model = Sequential()\n",
        "\n",
        "model.add(Embedding(2500, embedding_vector_length, input_length=max_review_length))\n",
        "model.add(Conv1D(50, 5))\n",
        "model.add(Flatten())\n",
        "model.add(Dense(100, activation='relu'))\n",
        "model.add(Dense(max(varietal_list_o) + 1, activation='softmax'))\n",
        "model.compile(loss='categorical_crossentropy', optimizer='adam', metrics=['accuracy'])\n",
        "model.fit(train_x, train_y, epochs=3, batch_size=64)"
      ],
      "execution_count": 0,
      "outputs": [
        {
          "output_type": "stream",
          "text": [
            "Epoch 1/3\n",
            "49925/49925 [==============================] - 44s 877us/step - loss: 1.0095 - acc: 0.6473\n",
            "Epoch 2/3\n",
            "49925/49925 [==============================] - 43s 864us/step - loss: 0.6270 - acc: 0.7854\n",
            "Epoch 3/3\n",
            "49925/49925 [==============================] - 43s 867us/step - loss: 0.5217 - acc: 0.8210\n"
          ],
          "name": "stdout"
        },
        {
          "output_type": "execute_result",
          "data": {
            "text/plain": [
              "<keras.callbacks.History at 0x7f42b6404ba8>"
            ]
          },
          "metadata": {
            "tags": []
          },
          "execution_count": 50
        }
      ]
    },
    {
      "metadata": {
        "id": "dYZts5NpkPXA",
        "colab_type": "code",
        "outputId": "03f9bd0c-1a59-4f58-be4b-da37e8e9bb2c",
        "colab": {
          "base_uri": "https://localhost:8080/",
          "height": 34
        }
      },
      "cell_type": "code",
      "source": [
        "y_score = model.predict(test_x)\n",
        "y_score = [[1 if i == max(sc) else 0 for i in sc] for sc in y_score]\n",
        "n_right = 0\n",
        "for i in range(len(y_score)):\n",
        "    if all(y_score[i][j] == test_y[i][j] for j in range(len(y_score[i]))):\n",
        "        n_right += 1\n",
        "\n",
        "print(\"Accuracy: %.2f%%\" % ((n_right/float(len(test_y)) * 100)))"
      ],
      "execution_count": 0,
      "outputs": [
        {
          "output_type": "stream",
          "text": [
            "Accuracy: 77.49%\n"
          ],
          "name": "stdout"
        }
      ]
    },
    {
      "metadata": {
        "id": "XaAQOI0NGIJt",
        "colab_type": "text"
      },
      "cell_type": "markdown",
      "source": [
        "Build a model that was able to compete with and outperform some of the other machine learning algorithms."
      ]
    },
    {
      "metadata": {
        "id": "rxLdp9qCF1uV",
        "colab_type": "code",
        "colab": {}
      },
      "cell_type": "code",
      "source": [
        ""
      ],
      "execution_count": 0,
      "outputs": []
    }
  ]
}